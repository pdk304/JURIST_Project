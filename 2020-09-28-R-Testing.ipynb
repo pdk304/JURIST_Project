{
 "cells": [
  {
   "cell_type": "markdown",
   "metadata": {},
   "source": [
    "# Statistical Testing for LSTM Predictions"
   ]
  },
  {
   "cell_type": "markdown",
   "metadata": {},
   "source": [
    "## Import data"
   ]
  },
  {
   "cell_type": "code",
   "execution_count": 1,
   "metadata": {},
   "outputs": [
    {
     "data": {
      "text/html": [
       "<ol class=list-inline>\n",
       "\t<li>'race'</li>\n",
       "\t<li>'sentiment'</li>\n",
       "</ol>\n"
      ],
      "text/latex": [
       "\\begin{enumerate*}\n",
       "\\item 'race'\n",
       "\\item 'sentiment'\n",
       "\\end{enumerate*}\n"
      ],
      "text/markdown": [
       "1. 'race'\n",
       "2. 'sentiment'\n",
       "\n",
       "\n"
      ],
      "text/plain": [
       "[1] \"race\"      \"sentiment\""
      ]
     },
     "metadata": {},
     "output_type": "display_data"
    },
    {
     "data": {
      "text/html": [
       "<ol class=list-inline>\n",
       "\t<li>'preds'</li>\n",
       "\t<li>'labels'</li>\n",
       "</ol>\n"
      ],
      "text/latex": [
       "\\begin{enumerate*}\n",
       "\\item 'preds'\n",
       "\\item 'labels'\n",
       "\\end{enumerate*}\n"
      ],
      "text/markdown": [
       "1. 'preds'\n",
       "2. 'labels'\n",
       "\n",
       "\n"
      ],
      "text/plain": [
       "[1] \"preds\"  \"labels\""
      ]
     },
     "metadata": {},
     "output_type": "display_data"
    },
    {
     "data": {
      "text/html": [
       "<table>\n",
       "<thead><tr><th scope=col>race</th><th scope=col>sentiment</th></tr></thead>\n",
       "<tbody>\n",
       "\t<tr><td>white</td><td>neg  </td></tr>\n",
       "\t<tr><td>white</td><td>neg  </td></tr>\n",
       "\t<tr><td>asian</td><td>pos  </td></tr>\n",
       "\t<tr><td>hisp </td><td>pos  </td></tr>\n",
       "\t<tr><td>hisp </td><td>neg  </td></tr>\n",
       "\t<tr><td>asian</td><td>pos  </td></tr>\n",
       "</tbody>\n",
       "</table>\n"
      ],
      "text/latex": [
       "\\begin{tabular}{r|ll}\n",
       " race & sentiment\\\\\n",
       "\\hline\n",
       "\t white & neg  \\\\\n",
       "\t white & neg  \\\\\n",
       "\t asian & pos  \\\\\n",
       "\t hisp  & pos  \\\\\n",
       "\t hisp  & neg  \\\\\n",
       "\t asian & pos  \\\\\n",
       "\\end{tabular}\n"
      ],
      "text/markdown": [
       "\n",
       "| race | sentiment |\n",
       "|---|---|\n",
       "| white | neg   |\n",
       "| white | neg   |\n",
       "| asian | pos   |\n",
       "| hisp  | pos   |\n",
       "| hisp  | neg   |\n",
       "| asian | pos   |\n",
       "\n"
      ],
      "text/plain": [
       "  race  sentiment\n",
       "1 white neg      \n",
       "2 white neg      \n",
       "3 asian pos      \n",
       "4 hisp  pos      \n",
       "5 hisp  neg      \n",
       "6 asian pos      "
      ]
     },
     "metadata": {},
     "output_type": "display_data"
    },
    {
     "data": {
      "text/html": [
       "<table>\n",
       "<thead><tr><th scope=col>preds</th><th scope=col>labels</th></tr></thead>\n",
       "<tbody>\n",
       "\t<tr><td>1</td><td>1</td></tr>\n",
       "\t<tr><td>1</td><td>1</td></tr>\n",
       "\t<tr><td>0</td><td>0</td></tr>\n",
       "\t<tr><td>0</td><td>0</td></tr>\n",
       "\t<tr><td>0</td><td>0</td></tr>\n",
       "\t<tr><td>0</td><td>0</td></tr>\n",
       "</tbody>\n",
       "</table>\n"
      ],
      "text/latex": [
       "\\begin{tabular}{r|ll}\n",
       " preds & labels\\\\\n",
       "\\hline\n",
       "\t 1 & 1\\\\\n",
       "\t 1 & 1\\\\\n",
       "\t 0 & 0\\\\\n",
       "\t 0 & 0\\\\\n",
       "\t 0 & 0\\\\\n",
       "\t 0 & 0\\\\\n",
       "\\end{tabular}\n"
      ],
      "text/markdown": [
       "\n",
       "| preds | labels |\n",
       "|---|---|\n",
       "| 1 | 1 |\n",
       "| 1 | 1 |\n",
       "| 0 | 0 |\n",
       "| 0 | 0 |\n",
       "| 0 | 0 |\n",
       "| 0 | 0 |\n",
       "\n"
      ],
      "text/plain": [
       "  preds labels\n",
       "1 1     1     \n",
       "2 1     1     \n",
       "3 0     0     \n",
       "4 0     0     \n",
       "5 0     0     \n",
       "6 0     0     "
      ]
     },
     "metadata": {},
     "output_type": "display_data"
    }
   ],
   "source": [
    "observations  <- read.csv(\"./data/observations.csv\", header = TRUE)\n",
    "black <- read.csv(\"./data/black_measurements.csv\", header = TRUE)\n",
    "white <- read.csv(\"./data/white_measurements.csv\", header = TRUE)\n",
    "asian <- read.csv(\"./data/asian_measurements.csv\", header = TRUE)\n",
    "hisp <- read.csv(\"./data/hisp_measurements.csv\", header = TRUE)\n",
    "\n",
    "names(observations)\n",
    "names(black)\n",
    "head(observations)\n",
    "head(black)"
   ]
  },
  {
   "cell_type": "markdown",
   "metadata": {},
   "source": [
    "## T-tests to compare predictions with labels"
   ]
  },
  {
   "cell_type": "code",
   "execution_count": 2,
   "metadata": {},
   "outputs": [
    {
     "data": {
      "text/plain": [
       "\n",
       "\tWelch Two Sample t-test\n",
       "\n",
       "data:  black$preds and black$labels\n",
       "t = 0.56341, df = 198, p-value = 0.5738\n",
       "alternative hypothesis: true difference in means is not equal to 0\n",
       "95 percent confidence interval:\n",
       " -0.100005  0.180005\n",
       "sample estimates:\n",
       "mean of x mean of y \n",
       "     0.53      0.49 \n"
      ]
     },
     "metadata": {},
     "output_type": "display_data"
    },
    {
     "data": {
      "text/plain": [
       "\n",
       "\tWelch Two Sample t-test\n",
       "\n",
       "data:  white$preds and white$labels\n",
       "t = 0.7239, df = 197.88, p-value = 0.47\n",
       "alternative hypothesis: true difference in means is not equal to 0\n",
       "95 percent confidence interval:\n",
       " -0.08620835  0.18620835\n",
       "sample estimates:\n",
       "mean of x mean of y \n",
       "     0.41      0.36 \n"
      ]
     },
     "metadata": {},
     "output_type": "display_data"
    },
    {
     "data": {
      "text/plain": [
       "\n",
       "\tWelch Two Sample t-test\n",
       "\n",
       "data:  asian$preds and asian$labels\n",
       "t = 1.1376, df = 197.92, p-value = 0.2567\n",
       "alternative hypothesis: true difference in means is not equal to 0\n",
       "95 percent confidence interval:\n",
       " -0.05868034  0.21868034\n",
       "sample estimates:\n",
       "mean of x mean of y \n",
       "     0.48      0.40 \n"
      ]
     },
     "metadata": {},
     "output_type": "display_data"
    },
    {
     "data": {
      "text/plain": [
       "\n",
       "\tWelch Two Sample t-test\n",
       "\n",
       "data:  hisp$preds and hisp$labels\n",
       "t = 1.135, df = 197.95, p-value = 0.2577\n",
       "alternative hypothesis: true difference in means is not equal to 0\n",
       "95 percent confidence interval:\n",
       " -0.05899146  0.21899146\n",
       "sample estimates:\n",
       "mean of x mean of y \n",
       "     0.49      0.41 \n"
      ]
     },
     "metadata": {},
     "output_type": "display_data"
    }
   ],
   "source": [
    "(test1 <- t.test(black$preds, black$labels, conf.level = .95))\n",
    "(test2 <- t.test(white$preds, white$labels, conf.level = .95))\n",
    "(test3 <- t.test(asian$preds, asian$labels, conf.level = .95))\n",
    "(test3 <- t.test(hisp$preds, hisp$labels, conf.level = .95))"
   ]
  },
  {
   "cell_type": "markdown",
   "metadata": {},
   "source": [
    "## Create contingency table"
   ]
  },
  {
   "cell_type": "code",
   "execution_count": 3,
   "metadata": {},
   "outputs": [
    {
     "data": {
      "text/plain": [
       "       \n",
       "        neg pos\n",
       "  asian  52  48\n",
       "  black  47  53\n",
       "  hisp   51  49\n",
       "  white  59  41"
      ]
     },
     "metadata": {},
     "output_type": "display_data"
    }
   ],
   "source": [
    "(tbl <- table(observations$race, observations$sentiment))"
   ]
  },
  {
   "cell_type": "markdown",
   "metadata": {},
   "source": [
    "## Perform Chi-squared test of independence"
   ]
  },
  {
   "cell_type": "code",
   "execution_count": 4,
   "metadata": {},
   "outputs": [
    {
     "data": {
      "text/plain": [
       "\n",
       "\tPearson's Chi-squared test\n",
       "\n",
       "data:  tbl\n",
       "X-squared = 2.9961, df = 3, p-value = 0.3922\n"
      ]
     },
     "metadata": {},
     "output_type": "display_data"
    }
   ],
   "source": [
    "chisq.test(tbl)"
   ]
  },
  {
   "cell_type": "markdown",
   "metadata": {},
   "source": [
    "## Perform pairwise t-tests and ANOVA to compare races"
   ]
  },
  {
   "cell_type": "markdown",
   "metadata": {},
   "source": [
    "### Convert sentiment strings into integer polarities"
   ]
  },
  {
   "cell_type": "code",
   "execution_count": 5,
   "metadata": {},
   "outputs": [
    {
     "data": {
      "text/html": [
       "<table>\n",
       "<thead><tr><th scope=col>race</th><th scope=col>sentiment</th><th scope=col>polarities</th></tr></thead>\n",
       "<tbody>\n",
       "\t<tr><td>white</td><td>neg  </td><td>0    </td></tr>\n",
       "\t<tr><td>white</td><td>neg  </td><td>0    </td></tr>\n",
       "\t<tr><td>asian</td><td>pos  </td><td>1    </td></tr>\n",
       "\t<tr><td>hisp </td><td>pos  </td><td>1    </td></tr>\n",
       "\t<tr><td>hisp </td><td>neg  </td><td>0    </td></tr>\n",
       "\t<tr><td>asian</td><td>pos  </td><td>1    </td></tr>\n",
       "</tbody>\n",
       "</table>\n"
      ],
      "text/latex": [
       "\\begin{tabular}{r|lll}\n",
       " race & sentiment & polarities\\\\\n",
       "\\hline\n",
       "\t white & neg   & 0    \\\\\n",
       "\t white & neg   & 0    \\\\\n",
       "\t asian & pos   & 1    \\\\\n",
       "\t hisp  & pos   & 1    \\\\\n",
       "\t hisp  & neg   & 0    \\\\\n",
       "\t asian & pos   & 1    \\\\\n",
       "\\end{tabular}\n"
      ],
      "text/markdown": [
       "\n",
       "| race | sentiment | polarities |\n",
       "|---|---|---|\n",
       "| white | neg   | 0     |\n",
       "| white | neg   | 0     |\n",
       "| asian | pos   | 1     |\n",
       "| hisp  | pos   | 1     |\n",
       "| hisp  | neg   | 0     |\n",
       "| asian | pos   | 1     |\n",
       "\n"
      ],
      "text/plain": [
       "  race  sentiment polarities\n",
       "1 white neg       0         \n",
       "2 white neg       0         \n",
       "3 asian pos       1         \n",
       "4 hisp  pos       1         \n",
       "5 hisp  neg       0         \n",
       "6 asian pos       1         "
      ]
     },
     "metadata": {},
     "output_type": "display_data"
    }
   ],
   "source": [
    "vec = vector()\n",
    "\n",
    "for (i in 1:nrow(observations))\n",
    "{\n",
    "    if (observations$sentiment[i] == \"neg\")\n",
    "    {\n",
    "        vec[i] <- 0\n",
    "    }\n",
    "    else\n",
    "    {\n",
    "        vec[i] <- 1\n",
    "    }\n",
    "}\n",
    "\n",
    "observations$polarities <- vec\n",
    "\n",
    "head(observations)"
   ]
  },
  {
   "cell_type": "markdown",
   "metadata": {},
   "source": [
    "### One-way ANOVA"
   ]
  },
  {
   "cell_type": "code",
   "execution_count": 6,
   "metadata": {
    "scrolled": true
   },
   "outputs": [
    {
     "data": {
      "text/plain": [
       "Call:\n",
       "   aov(formula = polarities ~ race, data = observations)\n",
       "\n",
       "Terms:\n",
       "                   race Residuals\n",
       "Sum of Squares   0.7475   99.0500\n",
       "Deg. of Freedom       3       396\n",
       "\n",
       "Residual standard error: 0.5001262\n",
       "Estimated effects may be unbalanced"
      ]
     },
     "metadata": {},
     "output_type": "display_data"
    },
    {
     "data": {
      "text/plain": [
       "             Df Sum Sq Mean Sq F value Pr(>F)\n",
       "race          3   0.75  0.2492   0.996  0.395\n",
       "Residuals   396  99.05  0.2501               "
      ]
     },
     "metadata": {},
     "output_type": "display_data"
    }
   ],
   "source": [
    "(aov1 <- aov(polarities ~ race, data = observations))\n",
    "summary(aov1)"
   ]
  },
  {
   "cell_type": "markdown",
   "metadata": {},
   "source": [
    "### Pairwise t-test"
   ]
  },
  {
   "cell_type": "code",
   "execution_count": 8,
   "metadata": {
    "scrolled": true
   },
   "outputs": [
    {
     "data": {
      "text/plain": [
       "\n",
       "\tPairwise comparisons using t tests with pooled SD \n",
       "\n",
       "data:  observations$polarities and observations$race \n",
       "\n",
       "      asian black hisp \n",
       "black 0.480 -     -    \n",
       "hisp  0.888 0.572 -    \n",
       "white 0.323 0.091 0.259\n",
       "\n",
       "P value adjustment method: none "
      ]
     },
     "metadata": {},
     "output_type": "display_data"
    }
   ],
   "source": [
    "pairwise.t.test(observations$polarities, observations$race, p.adjust.method = \"none\")"
   ]
  },
  {
   "cell_type": "code",
   "execution_count": null,
   "metadata": {},
   "outputs": [],
   "source": []
  }
 ],
 "metadata": {
  "kernelspec": {
   "display_name": "R",
   "language": "R",
   "name": "ir"
  },
  "language_info": {
   "codemirror_mode": "r",
   "file_extension": ".r",
   "mimetype": "text/x-r-source",
   "name": "R",
   "pygments_lexer": "r",
   "version": "3.6.1"
  }
 },
 "nbformat": 4,
 "nbformat_minor": 2
}
